{
  "nbformat": 4,
  "nbformat_minor": 0,
  "metadata": {
    "colab": {
      "provenance": []
    },
    "kernelspec": {
      "name": "python3",
      "display_name": "Python 3"
    },
    "language_info": {
      "name": "python"
    }
  },
  "cells": [
    {
      "cell_type": "code",
      "execution_count": 1,
      "metadata": {
        "id": "-zIdjyumhnBB",
        "colab": {
          "base_uri": "https://localhost:8080/"
        },
        "outputId": "07993d0b-eca6-4ce4-bc09-11981a993679"
      },
      "outputs": [
        {
          "output_type": "stream",
          "name": "stdout",
          "text": [
            "hello phyton\n"
          ]
        }
      ],
      "source": [
        "print(\"hello phyton\")"
      ]
    },
    {
      "cell_type": "code",
      "source": [],
      "metadata": {
        "id": "7sVB1CyglYzv"
      },
      "execution_count": null,
      "outputs": []
    }
  ]
}