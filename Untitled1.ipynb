{
 "cells": [
  {
   "cell_type": "code",
   "execution_count": 3,
   "id": "33eb28de",
   "metadata": {},
   "outputs": [
    {
     "name": "stdout",
     "output_type": "stream",
     "text": [
      "saji\n"
     ]
    }
   ],
   "source": [
    "name=\"swapna\"\n",
    "name=\"saji\"\n",
    "print(name)\n"
   ]
  },
  {
   "cell_type": "code",
   "execution_count": 6,
   "id": "bb029001",
   "metadata": {},
   "outputs": [
    {
     "name": "stdout",
     "output_type": "stream",
     "text": [
      "['crossroad,hello,nyc']\n",
      "crossroad,hello,nyc\n"
     ]
    }
   ],
   "source": [
    "values=[\"crossroad,hello,nyc\"]\n",
    "print(values)\n",
    "print(values[0])"
   ]
  },
  {
   "cell_type": "code",
   "execution_count": 6,
   "id": "d0aff7cb",
   "metadata": {},
   "outputs": [
    {
     "name": "stdout",
     "output_type": "stream",
     "text": [
      "enter a number5\n",
      "entered number is positive\n"
     ]
    }
   ],
   "source": [
    "def check\n",
    "if num<0:\n",
    "    \n",
    "\n",
    "    print(\"entered number is negative\")\n",
    "    \n",
    "else:\n",
    "        print(\"entered number is positive\")\n",
    "        \n"
   ]
  },
  {
   "cell_type": "code",
   "execution_count": 6,
   "id": "88f50423",
   "metadata": {},
   "outputs": [
    {
     "name": "stdout",
     "output_type": "stream",
     "text": [
      "loop finished\n"
     ]
    }
   ],
   "source": [
    "i=20\n",
    "while i<=10:\n",
    "    print(i)\n",
    "    i=i+1\n",
    "else:\n",
    "        print(\"loop finished\")"
   ]
  },
  {
   "cell_type": "code",
   "execution_count": 14,
   "id": "689b578f",
   "metadata": {},
   "outputs": [
    {
     "name": "stdout",
     "output_type": "stream",
     "text": [
      "10\n",
      "12\n",
      "14\n",
      "16\n",
      "18\n",
      "20\n",
      "22\n",
      "24\n",
      "26\n",
      "28\n",
      "30\n",
      "32\n",
      "34\n",
      "36\n",
      "38\n",
      "40\n",
      "42\n",
      "44\n",
      "46\n",
      "48\n",
      "50\n"
     ]
    }
   ],
   "source": [
    "files=[\"joker.mp4,memories.mp4,money\"]\n",
    "for x in range(10,51,2):\n",
    "    print(x)\n",
    "    \n"
   ]
  },
  {
   "cell_type": "code",
   "execution_count": null,
   "id": "bf78b5be",
   "metadata": {},
   "outputs": [],
   "source": []
  }
 ],
 "metadata": {
  "kernelspec": {
   "display_name": "Python 3 (ipykernel)",
   "language": "python",
   "name": "python3"
  },
  "language_info": {
   "codemirror_mode": {
    "name": "ipython",
    "version": 3
   },
   "file_extension": ".py",
   "mimetype": "text/x-python",
   "name": "python",
   "nbconvert_exporter": "python",
   "pygments_lexer": "ipython3",
   "version": "3.10.9"
  }
 },
 "nbformat": 4,
 "nbformat_minor": 5
}
